{
 "cells": [
  {
   "cell_type": "markdown",
   "id": "36da2683",
   "metadata": {},
   "source": [
    "# Compras efetuadas com cartões de pagamento do Governo Federal"
   ]
  },
  {
   "cell_type": "markdown",
   "id": "8e6d1646",
   "metadata": {},
   "source": [
    "Base de dados: https://www.portaltransparencia.gov.br/download-de-dados"
   ]
  },
  {
   "cell_type": "code",
   "execution_count": 1,
   "id": "2f6f94d7",
   "metadata": {},
   "outputs": [],
   "source": [
    "#importando bibliotecas\n",
    "import pandas as pd\n",
    "import glob"
   ]
  },
  {
   "cell_type": "code",
   "execution_count": 2,
   "id": "7b3f9365",
   "metadata": {},
   "outputs": [],
   "source": [
    "#caminho dos arquivos\n",
    "files = glob.glob(r'C:\\Users\\judite.cypreste\\gastos_cartao\\*')"
   ]
  },
  {
   "cell_type": "code",
   "execution_count": 3,
   "id": "8fcfc1a2",
   "metadata": {},
   "outputs": [],
   "source": [
    "#pegando o primeiro csv como modelo\n",
    "df = pd.read_csv(r'.\\gastos_cartao\\201901_CPGF.csv', encoding='Latin5',sep='\\t')"
   ]
  },
  {
   "cell_type": "code",
   "execution_count": 4,
   "id": "778c470f",
   "metadata": {
    "scrolled": false
   },
   "outputs": [
    {
     "name": "stderr",
     "output_type": "stream",
     "text": [
      "C:\\Users\\JUDITE~1.CYP\\AppData\\Local\\Temp/ipykernel_7028/1953780359.py:2: FutureWarning: The warn_bad_lines argument has been deprecated and will be removed in a future version.\n",
      "\n",
      "\n",
      "  df = pd.concat([pd.read_csv(file, encoding='Latin5', sep=';', header=None, skiprows=1,error_bad_lines=False, warn_bad_lines=True) for file in files])\n",
      "C:\\Users\\JUDITE~1.CYP\\AppData\\Local\\Temp/ipykernel_7028/1953780359.py:2: FutureWarning: The error_bad_lines argument has been deprecated and will be removed in a future version.\n",
      "\n",
      "\n",
      "  df = pd.concat([pd.read_csv(file, encoding='Latin5', sep=';', header=None, skiprows=1,error_bad_lines=False, warn_bad_lines=True) for file in files])\n"
     ]
    }
   ],
   "source": [
    "#unindo os csvs\n",
    "df = pd.concat([pd.read_csv(file, encoding='Latin5', sep=';', header=None, skiprows=1,error_bad_lines=False, warn_bad_lines=True) for file in files])"
   ]
  },
  {
   "cell_type": "code",
   "execution_count": 5,
   "id": "5fdad7c1",
   "metadata": {
    "scrolled": true
   },
   "outputs": [
    {
     "data": {
      "text/html": [
       "<div>\n",
       "<style scoped>\n",
       "    .dataframe tbody tr th:only-of-type {\n",
       "        vertical-align: middle;\n",
       "    }\n",
       "\n",
       "    .dataframe tbody tr th {\n",
       "        vertical-align: top;\n",
       "    }\n",
       "\n",
       "    .dataframe thead th {\n",
       "        text-align: right;\n",
       "    }\n",
       "</style>\n",
       "<table border=\"1\" class=\"dataframe\">\n",
       "  <thead>\n",
       "    <tr style=\"text-align: right;\">\n",
       "      <th></th>\n",
       "      <th>0</th>\n",
       "      <th>1</th>\n",
       "      <th>2</th>\n",
       "      <th>3</th>\n",
       "      <th>4</th>\n",
       "      <th>5</th>\n",
       "      <th>6</th>\n",
       "      <th>7</th>\n",
       "      <th>8</th>\n",
       "      <th>9</th>\n",
       "      <th>10</th>\n",
       "      <th>11</th>\n",
       "      <th>12</th>\n",
       "      <th>13</th>\n",
       "      <th>14</th>\n",
       "    </tr>\n",
       "  </thead>\n",
       "  <tbody>\n",
       "    <tr>\n",
       "      <th>0</th>\n",
       "      <td>63000</td>\n",
       "      <td>Advocacia-Geral da União</td>\n",
       "      <td>63000</td>\n",
       "      <td>Advocacia-Geral da União - Unidades com víncul...</td>\n",
       "      <td>110096</td>\n",
       "      <td>SUPERINTENDENCIA ADMINISTRACAO EM PERNAMBUCO</td>\n",
       "      <td>2019</td>\n",
       "      <td>1</td>\n",
       "      <td>***.061.482-**</td>\n",
       "      <td>CRISTINA SILVA CAMARA DOS SANTOS</td>\n",
       "      <td>43283811015858</td>\n",
       "      <td>KALUNGA COMERCIO E INDUSTRIA GRAFICA LTDA</td>\n",
       "      <td>COMPRA A/V - R$ - APRES</td>\n",
       "      <td>11/12/2018</td>\n",
       "      <td>72,10</td>\n",
       "    </tr>\n",
       "    <tr>\n",
       "      <th>1</th>\n",
       "      <td>63000</td>\n",
       "      <td>Advocacia-Geral da União</td>\n",
       "      <td>63000</td>\n",
       "      <td>Advocacia-Geral da União - Unidades com víncul...</td>\n",
       "      <td>110096</td>\n",
       "      <td>SUPERINTENDENCIA ADMINISTRACAO EM PERNAMBUCO</td>\n",
       "      <td>2019</td>\n",
       "      <td>1</td>\n",
       "      <td>***.061.482-**</td>\n",
       "      <td>CRISTINA SILVA CAMARA DOS SANTOS</td>\n",
       "      <td>43283811015858</td>\n",
       "      <td>KALUNGA COMERCIO E INDUSTRIA GRAFICA LTDA</td>\n",
       "      <td>COMPRA A/V - R$ - APRES</td>\n",
       "      <td>03/12/2018</td>\n",
       "      <td>115,00</td>\n",
       "    </tr>\n",
       "    <tr>\n",
       "      <th>2</th>\n",
       "      <td>63000</td>\n",
       "      <td>Advocacia-Geral da União</td>\n",
       "      <td>63000</td>\n",
       "      <td>Advocacia-Geral da União - Unidades com víncul...</td>\n",
       "      <td>110096</td>\n",
       "      <td>SUPERINTENDENCIA ADMINISTRACAO EM PERNAMBUCO</td>\n",
       "      <td>2019</td>\n",
       "      <td>1</td>\n",
       "      <td>***.299.005-**</td>\n",
       "      <td>ALCIO RIBEIRO BRITTO</td>\n",
       "      <td>16153504000181</td>\n",
       "      <td>PITUBA MATERIAIS DE CONSTRUCAO LTDA</td>\n",
       "      <td>COMPRA A/V - R$ - APRES</td>\n",
       "      <td>14/12/2018</td>\n",
       "      <td>136,40</td>\n",
       "    </tr>\n",
       "    <tr>\n",
       "      <th>3</th>\n",
       "      <td>63000</td>\n",
       "      <td>Advocacia-Geral da União</td>\n",
       "      <td>63000</td>\n",
       "      <td>Advocacia-Geral da União - Unidades com víncul...</td>\n",
       "      <td>110096</td>\n",
       "      <td>SUPERINTENDENCIA ADMINISTRACAO EM PERNAMBUCO</td>\n",
       "      <td>2019</td>\n",
       "      <td>1</td>\n",
       "      <td>***.299.005-**</td>\n",
       "      <td>ALCIO RIBEIRO BRITTO</td>\n",
       "      <td>16153504000181</td>\n",
       "      <td>PITUBA MATERIAIS DE CONSTRUCAO LTDA</td>\n",
       "      <td>COMPRA A/V - R$ - APRES</td>\n",
       "      <td>07/12/2018</td>\n",
       "      <td>9,90</td>\n",
       "    </tr>\n",
       "    <tr>\n",
       "      <th>4</th>\n",
       "      <td>63000</td>\n",
       "      <td>Advocacia-Geral da União</td>\n",
       "      <td>63000</td>\n",
       "      <td>Advocacia-Geral da União - Unidades com víncul...</td>\n",
       "      <td>110096</td>\n",
       "      <td>SUPERINTENDENCIA ADMINISTRACAO EM PERNAMBUCO</td>\n",
       "      <td>2019</td>\n",
       "      <td>1</td>\n",
       "      <td>***.045.104-**</td>\n",
       "      <td>MARIA SUELY PEREIRA DA SILVA</td>\n",
       "      <td>4981612000163</td>\n",
       "      <td>ANA CRISTINA CORDEIRO DA COSTA AGRA</td>\n",
       "      <td>COMPRA A/V - R$ - APRES</td>\n",
       "      <td>04/12/2018</td>\n",
       "      <td>98,00</td>\n",
       "    </tr>\n",
       "  </tbody>\n",
       "</table>\n",
       "</div>"
      ],
      "text/plain": [
       "      0                         1      2   \\\n",
       "0  63000  Advocacia-Geral da União  63000   \n",
       "1  63000  Advocacia-Geral da União  63000   \n",
       "2  63000  Advocacia-Geral da União  63000   \n",
       "3  63000  Advocacia-Geral da União  63000   \n",
       "4  63000  Advocacia-Geral da União  63000   \n",
       "\n",
       "                                                  3       4   \\\n",
       "0  Advocacia-Geral da União - Unidades com víncul...  110096   \n",
       "1  Advocacia-Geral da União - Unidades com víncul...  110096   \n",
       "2  Advocacia-Geral da União - Unidades com víncul...  110096   \n",
       "3  Advocacia-Geral da União - Unidades com víncul...  110096   \n",
       "4  Advocacia-Geral da União - Unidades com víncul...  110096   \n",
       "\n",
       "                                             5     6   7               8   \\\n",
       "0  SUPERINTENDENCIA ADMINISTRACAO EM PERNAMBUCO  2019   1  ***.061.482-**   \n",
       "1  SUPERINTENDENCIA ADMINISTRACAO EM PERNAMBUCO  2019   1  ***.061.482-**   \n",
       "2  SUPERINTENDENCIA ADMINISTRACAO EM PERNAMBUCO  2019   1  ***.299.005-**   \n",
       "3  SUPERINTENDENCIA ADMINISTRACAO EM PERNAMBUCO  2019   1  ***.299.005-**   \n",
       "4  SUPERINTENDENCIA ADMINISTRACAO EM PERNAMBUCO  2019   1  ***.045.104-**   \n",
       "\n",
       "                                 9               10  \\\n",
       "0  CRISTINA SILVA CAMARA DOS SANTOS  43283811015858   \n",
       "1  CRISTINA SILVA CAMARA DOS SANTOS  43283811015858   \n",
       "2              ALCIO RIBEIRO BRITTO  16153504000181   \n",
       "3              ALCIO RIBEIRO BRITTO  16153504000181   \n",
       "4      MARIA SUELY PEREIRA DA SILVA   4981612000163   \n",
       "\n",
       "                                          11                       12  \\\n",
       "0  KALUNGA COMERCIO E INDUSTRIA GRAFICA LTDA  COMPRA A/V - R$ - APRES   \n",
       "1  KALUNGA COMERCIO E INDUSTRIA GRAFICA LTDA  COMPRA A/V - R$ - APRES   \n",
       "2        PITUBA MATERIAIS DE CONSTRUCAO LTDA  COMPRA A/V - R$ - APRES   \n",
       "3        PITUBA MATERIAIS DE CONSTRUCAO LTDA  COMPRA A/V - R$ - APRES   \n",
       "4        ANA CRISTINA CORDEIRO DA COSTA AGRA  COMPRA A/V - R$ - APRES   \n",
       "\n",
       "           13      14  \n",
       "0  11/12/2018   72,10  \n",
       "1  03/12/2018  115,00  \n",
       "2  14/12/2018  136,40  \n",
       "3  07/12/2018    9,90  \n",
       "4  04/12/2018   98,00  "
      ]
     },
     "execution_count": 5,
     "metadata": {},
     "output_type": "execute_result"
    }
   ],
   "source": [
    "#vendo meu df\n",
    "df.head()"
   ]
  },
  {
   "cell_type": "code",
   "execution_count": 6,
   "id": "a41cc801",
   "metadata": {},
   "outputs": [],
   "source": [
    "#colocando cabeçalhos\n",
    "df.columns = ['Código Órgão Superior','Nome Órgão Superior','Código Órgão Subordinado','Nome Órgão Subordinado','Código Unidade Gestora','Nome Unidade Gestora','Ano Extrato','Mês Extrato','CPF Portador','Nome Portador','CNPJ ou CPF Favorecido','Nome Favorecido','Transação','Data Transação','Valor Transação']"
   ]
  },
  {
   "cell_type": "code",
   "execution_count": 7,
   "id": "d1e9257c",
   "metadata": {},
   "outputs": [],
   "source": [
    "#padronizando 'Nome Favorecido'\n",
    "#colocando em maiúscula\n",
    "df['Nome Favorecido'] = df['Nome Favorecido'].str.lower()"
   ]
  },
  {
   "cell_type": "code",
   "execution_count": 8,
   "id": "ed099ad2",
   "metadata": {},
   "outputs": [],
   "source": [
    "#substituindo ',' por '.' e dizendo que a coluna 'Valor Transação' é numérica\n",
    "df['Valor Transação'] = df['Valor Transação'].str.replace(',','.')\n",
    "df['Valor Transação'] = df['Valor Transação'].astype(float)"
   ]
  },
  {
   "cell_type": "code",
   "execution_count": 9,
   "id": "afddb043",
   "metadata": {
    "scrolled": true
   },
   "outputs": [],
   "source": [
    "#exportando o csv completo\n",
    "df.to_csv('gastos_cartao_bolsonaro.csv',index=False)"
   ]
  },
  {
   "cell_type": "code",
   "execution_count": 10,
   "id": "d270ee08",
   "metadata": {
    "scrolled": true
   },
   "outputs": [
    {
     "data": {
      "text/plain": [
       "Nome Órgão Superior\n",
       "Presidência da República                         49352206.90\n",
       "Ministério da Justiça e Segurança Pública        32829091.40\n",
       "Ministério da Economia                           17598251.36\n",
       "Ministério da Educação                           12689566.01\n",
       "Ministério da Defesa                             11137563.44\n",
       "Ministério da Agricultura, Pecuária e Abastec     6202938.82\n",
       "Ministério da Saúde                               4921140.01\n",
       "Ministério do Meio Ambiente                       2727683.80\n",
       "Ministério do Desenvolvimento Regional            1713114.90\n",
       "Ministério da Ciência, Tecnologia, Inovações      1552753.11\n",
       "Ministério de Minas e Energia                     1540337.65\n",
       "Advocacia-Geral da União                           485520.00\n",
       "Ministério da Infraestrutura                       398413.06\n",
       "Ministério do Trabalho e Emprego                   178914.23\n",
       "Ministério da Cidadania                            178783.13\n",
       "Ministério do Turismo                              122079.13\n",
       "Controladoria-Geral da União                       118648.56\n",
       "Ministério das Relações Exteriores                  59776.75\n",
       "Ministério das Comunicações                         41208.77\n",
       "Ministério da Mulher, Família e Direitos Huma        6087.65\n",
       "Name: Valor Transação, dtype: float64"
      ]
     },
     "execution_count": 10,
     "metadata": {},
     "output_type": "execute_result"
    }
   ],
   "source": [
    "#valor total gasto desde 2019 por 'Órgão Superior'\n",
    "df.groupby('Nome Órgão Superior')['Valor Transação'].sum().sort_values(ascending=False)"
   ]
  },
  {
   "cell_type": "code",
   "execution_count": 11,
   "id": "844584a1",
   "metadata": {},
   "outputs": [
    {
     "data": {
      "text/plain": [
       "(249422, 15)"
      ]
     },
     "execution_count": 11,
     "metadata": {},
     "output_type": "execute_result"
    }
   ],
   "source": [
    "#total de compras\n",
    "df.shape"
   ]
  },
  {
   "cell_type": "code",
   "execution_count": 12,
   "id": "afd02bbb",
   "metadata": {},
   "outputs": [
    {
     "data": {
      "text/plain": [
       "143854078.67999998"
      ]
     },
     "execution_count": 12,
     "metadata": {},
     "output_type": "execute_result"
    }
   ],
   "source": [
    "#quanto foi gasto\n",
    "total = df['Valor Transação'].sum()\n",
    "total"
   ]
  },
  {
   "cell_type": "markdown",
   "id": "dfb70b33",
   "metadata": {},
   "source": [
    "## Analisando os gastos sigilosos feitos com cartão corporativo"
   ]
  },
  {
   "cell_type": "code",
   "execution_count": 13,
   "id": "db0ec96f",
   "metadata": {},
   "outputs": [],
   "source": [
    "sigiloso = df[df['Nome Portador'] == 'Sigiloso']"
   ]
  },
  {
   "cell_type": "code",
   "execution_count": 14,
   "id": "27406720",
   "metadata": {
    "scrolled": true
   },
   "outputs": [
    {
     "data": {
      "text/html": [
       "<div>\n",
       "<style scoped>\n",
       "    .dataframe tbody tr th:only-of-type {\n",
       "        vertical-align: middle;\n",
       "    }\n",
       "\n",
       "    .dataframe tbody tr th {\n",
       "        vertical-align: top;\n",
       "    }\n",
       "\n",
       "    .dataframe thead th {\n",
       "        text-align: right;\n",
       "    }\n",
       "</style>\n",
       "<table border=\"1\" class=\"dataframe\">\n",
       "  <thead>\n",
       "    <tr style=\"text-align: right;\">\n",
       "      <th></th>\n",
       "      <th>Código Órgão Superior</th>\n",
       "      <th>Nome Órgão Superior</th>\n",
       "      <th>Código Órgão Subordinado</th>\n",
       "      <th>Nome Órgão Subordinado</th>\n",
       "      <th>Código Unidade Gestora</th>\n",
       "      <th>Nome Unidade Gestora</th>\n",
       "      <th>Ano Extrato</th>\n",
       "      <th>Mês Extrato</th>\n",
       "      <th>CPF Portador</th>\n",
       "      <th>Nome Portador</th>\n",
       "      <th>CNPJ ou CPF Favorecido</th>\n",
       "      <th>Nome Favorecido</th>\n",
       "      <th>Transação</th>\n",
       "      <th>Data Transação</th>\n",
       "      <th>Valor Transação</th>\n",
       "    </tr>\n",
       "  </thead>\n",
       "  <tbody>\n",
       "    <tr>\n",
       "      <th>4475</th>\n",
       "      <td>25000</td>\n",
       "      <td>Ministério da Economia</td>\n",
       "      <td>25915</td>\n",
       "      <td>Fundo Constitucional do Distrito Federal</td>\n",
       "      <td>170395</td>\n",
       "      <td>FCDF­SSP ­ POLICIA CIVIL DO DF</td>\n",
       "      <td>2019</td>\n",
       "      <td>1</td>\n",
       "      <td>NaN</td>\n",
       "      <td>Sigiloso</td>\n",
       "      <td>-11</td>\n",
       "      <td>sigiloso</td>\n",
       "      <td>Informações protegidas por sigilo</td>\n",
       "      <td>NaN</td>\n",
       "      <td>800.0</td>\n",
       "    </tr>\n",
       "    <tr>\n",
       "      <th>4476</th>\n",
       "      <td>25000</td>\n",
       "      <td>Ministério da Economia</td>\n",
       "      <td>25915</td>\n",
       "      <td>Fundo Constitucional do Distrito Federal</td>\n",
       "      <td>170395</td>\n",
       "      <td>FCDF­SSP ­ POLICIA CIVIL DO DF</td>\n",
       "      <td>2019</td>\n",
       "      <td>1</td>\n",
       "      <td>NaN</td>\n",
       "      <td>Sigiloso</td>\n",
       "      <td>-11</td>\n",
       "      <td>sigiloso</td>\n",
       "      <td>Informações protegidas por sigilo</td>\n",
       "      <td>NaN</td>\n",
       "      <td>800.0</td>\n",
       "    </tr>\n",
       "    <tr>\n",
       "      <th>4477</th>\n",
       "      <td>25000</td>\n",
       "      <td>Ministério da Economia</td>\n",
       "      <td>25915</td>\n",
       "      <td>Fundo Constitucional do Distrito Federal</td>\n",
       "      <td>170395</td>\n",
       "      <td>FCDF­SSP ­ POLICIA CIVIL DO DF</td>\n",
       "      <td>2019</td>\n",
       "      <td>1</td>\n",
       "      <td>NaN</td>\n",
       "      <td>Sigiloso</td>\n",
       "      <td>-11</td>\n",
       "      <td>sigiloso</td>\n",
       "      <td>Informações protegidas por sigilo</td>\n",
       "      <td>NaN</td>\n",
       "      <td>800.0</td>\n",
       "    </tr>\n",
       "    <tr>\n",
       "      <th>4478</th>\n",
       "      <td>25000</td>\n",
       "      <td>Ministério da Economia</td>\n",
       "      <td>25915</td>\n",
       "      <td>Fundo Constitucional do Distrito Federal</td>\n",
       "      <td>170395</td>\n",
       "      <td>FCDF­SSP ­ POLICIA CIVIL DO DF</td>\n",
       "      <td>2019</td>\n",
       "      <td>1</td>\n",
       "      <td>NaN</td>\n",
       "      <td>Sigiloso</td>\n",
       "      <td>-11</td>\n",
       "      <td>sigiloso</td>\n",
       "      <td>Informações protegidas por sigilo</td>\n",
       "      <td>NaN</td>\n",
       "      <td>800.0</td>\n",
       "    </tr>\n",
       "    <tr>\n",
       "      <th>4479</th>\n",
       "      <td>25000</td>\n",
       "      <td>Ministério da Economia</td>\n",
       "      <td>25915</td>\n",
       "      <td>Fundo Constitucional do Distrito Federal</td>\n",
       "      <td>170395</td>\n",
       "      <td>FCDF­SSP ­ POLICIA CIVIL DO DF</td>\n",
       "      <td>2019</td>\n",
       "      <td>1</td>\n",
       "      <td>NaN</td>\n",
       "      <td>Sigiloso</td>\n",
       "      <td>-11</td>\n",
       "      <td>sigiloso</td>\n",
       "      <td>Informações protegidas por sigilo</td>\n",
       "      <td>NaN</td>\n",
       "      <td>800.0</td>\n",
       "    </tr>\n",
       "  </tbody>\n",
       "</table>\n",
       "</div>"
      ],
      "text/plain": [
       "      Código Órgão Superior     Nome Órgão Superior  Código Órgão Subordinado  \\\n",
       "4475                  25000  Ministério da Economia                     25915   \n",
       "4476                  25000  Ministério da Economia                     25915   \n",
       "4477                  25000  Ministério da Economia                     25915   \n",
       "4478                  25000  Ministério da Economia                     25915   \n",
       "4479                  25000  Ministério da Economia                     25915   \n",
       "\n",
       "                        Nome Órgão Subordinado  Código Unidade Gestora  \\\n",
       "4475  Fundo Constitucional do Distrito Federal                  170395   \n",
       "4476  Fundo Constitucional do Distrito Federal                  170395   \n",
       "4477  Fundo Constitucional do Distrito Federal                  170395   \n",
       "4478  Fundo Constitucional do Distrito Federal                  170395   \n",
       "4479  Fundo Constitucional do Distrito Federal                  170395   \n",
       "\n",
       "                Nome Unidade Gestora  Ano Extrato  Mês Extrato CPF Portador  \\\n",
       "4475  FCDF­SSP ­ POLICIA CIVIL DO DF         2019            1          NaN   \n",
       "4476  FCDF­SSP ­ POLICIA CIVIL DO DF         2019            1          NaN   \n",
       "4477  FCDF­SSP ­ POLICIA CIVIL DO DF         2019            1          NaN   \n",
       "4478  FCDF­SSP ­ POLICIA CIVIL DO DF         2019            1          NaN   \n",
       "4479  FCDF­SSP ­ POLICIA CIVIL DO DF         2019            1          NaN   \n",
       "\n",
       "     Nome Portador  CNPJ ou CPF Favorecido Nome Favorecido  \\\n",
       "4475      Sigiloso                     -11        sigiloso   \n",
       "4476      Sigiloso                     -11        sigiloso   \n",
       "4477      Sigiloso                     -11        sigiloso   \n",
       "4478      Sigiloso                     -11        sigiloso   \n",
       "4479      Sigiloso                     -11        sigiloso   \n",
       "\n",
       "                              Transação Data Transação  Valor Transação  \n",
       "4475  Informações protegidas por sigilo            NaN            800.0  \n",
       "4476  Informações protegidas por sigilo            NaN            800.0  \n",
       "4477  Informações protegidas por sigilo            NaN            800.0  \n",
       "4478  Informações protegidas por sigilo            NaN            800.0  \n",
       "4479  Informações protegidas por sigilo            NaN            800.0  "
      ]
     },
     "execution_count": 14,
     "metadata": {},
     "output_type": "execute_result"
    }
   ],
   "source": [
    "sigiloso.head()"
   ]
  },
  {
   "cell_type": "code",
   "execution_count": 15,
   "id": "db759340",
   "metadata": {},
   "outputs": [
    {
     "data": {
      "text/plain": [
       "(57082, 15)"
      ]
     },
     "execution_count": 15,
     "metadata": {},
     "output_type": "execute_result"
    }
   ],
   "source": [
    "#total de compras sigilosas\n",
    "sigiloso.shape"
   ]
  },
  {
   "cell_type": "code",
   "execution_count": 16,
   "id": "e9ed7774",
   "metadata": {
    "scrolled": true
   },
   "outputs": [
    {
     "data": {
      "text/plain": [
       "Nome Órgão Superior\n",
       "Presidência da República                     48718100.31\n",
       "Ministério da Justiça e Segurança Pública    28338682.34\n",
       "Ministério da Economia                         901454.00\n",
       "Ministério da Defesa                             4109.37\n",
       "Name: Valor Transação, dtype: float64"
      ]
     },
     "execution_count": 16,
     "metadata": {},
     "output_type": "execute_result"
    }
   ],
   "source": [
    "#qual foi o órgão que mais gastou\n",
    "sigiloso.groupby('Nome Órgão Superior')['Valor Transação'].sum().sort_values(ascending=False)"
   ]
  },
  {
   "cell_type": "code",
   "execution_count": 17,
   "id": "d405a369",
   "metadata": {},
   "outputs": [
    {
     "data": {
      "text/plain": [
       "77962346.02"
      ]
     },
     "execution_count": 17,
     "metadata": {},
     "output_type": "execute_result"
    }
   ],
   "source": [
    "#quanto foi gasto\n",
    "total = sigiloso['Valor Transação'].sum()\n",
    "total"
   ]
  },
  {
   "cell_type": "markdown",
   "id": "8557c005",
   "metadata": {},
   "source": [
    "### Analisando os gastos sigilosos feitos pela Presidência da República"
   ]
  },
  {
   "cell_type": "code",
   "execution_count": 18,
   "id": "23d45886",
   "metadata": {},
   "outputs": [],
   "source": [
    "#selecionando apenas a Presidência da República\n",
    "df_presidencia = sigiloso[sigiloso['Nome Órgão Superior'] == 'Presidência da República']"
   ]
  },
  {
   "cell_type": "code",
   "execution_count": 19,
   "id": "4fa5bdc4",
   "metadata": {},
   "outputs": [
    {
     "data": {
      "text/plain": [
       "(24674, 15)"
      ]
     },
     "execution_count": 19,
     "metadata": {},
     "output_type": "execute_result"
    }
   ],
   "source": [
    "#total de compras\n",
    "df_presidencia.shape"
   ]
  },
  {
   "cell_type": "code",
   "execution_count": 20,
   "id": "510f503e",
   "metadata": {},
   "outputs": [
    {
     "data": {
      "text/plain": [
       "48718100.31"
      ]
     },
     "execution_count": 20,
     "metadata": {},
     "output_type": "execute_result"
    }
   ],
   "source": [
    "#quanto foi gasto\n",
    "total_presidencia = df_presidencia['Valor Transação'].sum()\n",
    "total_presidencia"
   ]
  },
  {
   "cell_type": "code",
   "execution_count": 21,
   "id": "af2ae410",
   "metadata": {
    "scrolled": true
   },
   "outputs": [
    {
     "data": {
      "text/plain": [
       "Nome Unidade Gestora\n",
       "SECRETARIA ESPECIAL DE ADMINISTRACAO/PR      22936749.61\n",
       "AGENCIA BRASILEIRA DE INTELIGÊNCIA           17466461.41\n",
       "AGENCIA BRASILEIRA DE INTELIGENCIA            3240595.94\n",
       "GABINETE DE SEGURANÇA INSTITUCIONAL/PR        2744624.47\n",
       "GABINETE DA VICE-PRESIDENCIA DA REPUBLICA     1866978.16\n",
       "GABINETE DE SEGURANCA INSTITUCIONAL/PR         462690.72\n",
       "Name: Valor Transação, dtype: float64"
      ]
     },
     "execution_count": 21,
     "metadata": {},
     "output_type": "execute_result"
    }
   ],
   "source": [
    "#qual foi a Unidade Gestora da Presidência que mais gastou\n",
    "df_presidencia.groupby('Nome Unidade Gestora')['Valor Transação'].sum().sort_values(ascending=False)"
   ]
  },
  {
   "cell_type": "code",
   "execution_count": 22,
   "id": "81e0da1a",
   "metadata": {
    "scrolled": true
   },
   "outputs": [
    {
     "data": {
      "text/plain": [
       "Ano Extrato\n",
       "2019    15524369.80\n",
       "2020    19875047.94\n",
       "2021    13318682.57\n",
       "Name: Valor Transação, dtype: float64"
      ]
     },
     "execution_count": 22,
     "metadata": {},
     "output_type": "execute_result"
    }
   ],
   "source": [
    "#calculando os gastos por ano\n",
    "df_presidencia.groupby('Ano Extrato')['Valor Transação'].sum()"
   ]
  },
  {
   "cell_type": "code",
   "execution_count": 23,
   "id": "6671bb13",
   "metadata": {},
   "outputs": [],
   "source": [
    "#exportando o csv completo\n",
    "df_presidencia.to_csv('Sigiloso_presidencia.csv',index=False)"
   ]
  }
 ],
 "metadata": {
  "kernelspec": {
   "display_name": "Python 3 (ipykernel)",
   "language": "python",
   "name": "python3"
  },
  "language_info": {
   "codemirror_mode": {
    "name": "ipython",
    "version": 3
   },
   "file_extension": ".py",
   "mimetype": "text/x-python",
   "name": "python",
   "nbconvert_exporter": "python",
   "pygments_lexer": "ipython3",
   "version": "3.9.7"
  }
 },
 "nbformat": 4,
 "nbformat_minor": 5
}
